{
 "cells": [
  {
   "cell_type": "markdown",
   "metadata": {
    "lang": "en"
   },
   "source": [
    "# Attractors in dynamical systems\n",
    "\n",
    "## What is an attractor? \n",
    "\n",
    "An attractor $A$ is such a set in the phase space of the dynamical system that many trajectories starting even very far from this set tends this set $A$ when  $t\\to \\infty$.   As an example, let us consider a damped oscillator. Starting form arbitrary initial conditions $\\{ x(0), v(0)\\}$, the particle always tends to the point $\\{ 0, 0\\}$ which is an attractor for the damped oscillator.  In this case, the attractor is a point in the phase space: $A = \\{0, 0\\}$. \n",
    "It attracts trajectories with different initial conditions. But it is not necassary to attract all trajectories. For a given dynamical system there may be many attractors, even infinitely many. Attractors may have a simple  structure: this may be a point, a few points, a curve such as a circle or a deformed ellipse, a part of the plane, a torus, a part of space. Attractors can also have a complicated structure: it can be a fractal set, i.e. a set with a non-integer dimension, e.g. 0.63, 2.06. Such an attractor is called a strange attractor.\n",
    "\n",
    "The next notion is the basins of attraction $B$ for the attractor $A$. It is the set:  \n",
    "\n",
    "$$B(A) = \\{ \\vec x_0: \\lim_{t \\to \\infty} \\vec x(t; \\vec x_0) \\in A\\}$$\n",
    "\n",
    "where $\\vec x(t; x_0)$ is the trajectory starting from the initial condition $\\vec x_0$, e.g. the solution of the system of differential equations with the corresponding initial conditions $\\vec x_0$. So, the basin of attraction for the attractor $A$ is a set of all initial conditions for which the corresponding trajectories tend to $A$ when $t\\to \\infty$. \n",
    "\n",
    "### EXAMPLE 1: Damped harmonic oscillator\n",
    "\n",
    "$$\\ddot x = -\\omega^2 x - \\gamma \\dot x, \\qquad V(x) = \\frac{1}{2} \\omega^2 x^2$$\n",
    "\n",
    "There is only one attractor: this is the point $A=(0, 0)$. The basin of attraction is the whole phase plane $B = \\{x, v\\}$.  is the attraction pool."
   ]
  },
  {
   "cell_type": "code",
   "execution_count": null,
   "metadata": {},
   "outputs": [],
   "source": [
    "var('x,y')\n",
    "T = srange(0,50,0.01)\n",
    "sol1 = desolve_odeint(vector([y,-x -0.2*y]), [0,1], T, [x,y]).tolist()\n",
    "sol2 = desolve_odeint(vector([y,-x -0.2*y]), [0,0.85], T, [x,y])\n",
    "sol3 = desolve_odeint(vector([y,-x -0.2*y]), [0,0.7], T, [x,y])\n",
    "p1 = plot(x^2, -2, 2,figsize=(6,3), )\n",
    "g1 = list_plot(sol1, plotjoined=True, \\\n",
    "               figsize=(6,3),axes_labels=[r'$x$',r'$y$'])\n",
    "g1 += list_plot(sol2.tolist(), plotjoined=True,\\\n",
    "                figsize=(6,3),color=\"red\", axes_labels=[r'$x$',r'$y$'])\n",
    "g1 += list_plot(sol3.tolist(), plotjoined=True,\\\n",
    "                figsize=(6,3),color=\"green\", axes_labels=[r'$x$',r'$y$'])\n",
    "table([[\"potencjał kwadratowy\",\"oscylator tłumiony\"],[p1,g1]])\n",
    "print(\"all solutions tend to the point (0,0) which is an attractor for the damped oscillator \")\n",
    "\n",
    "#g1.save('sage_chI024_01.pdf')\n",
    "#g1.save('sage_chI024_01.png')\n",
    "\n",
    "g1.show(),p1.show()\n"
   ]
  },
  {
   "cell_type": "markdown",
   "metadata": {
    "lang": "en"
   },
   "source": [
    "### EXAMPLE 2: The non-linear (bistable) damped oscillator described by the Newton equation: \n",
    "\n",
    "\n",
    "$$\\ddot x = ax -bx^3  - \\gamma \\dot x, \\qquad V(x) = \\frac{1}{4} b x^4 - \\frac{1}{2} a x^2$$\n",
    "\n",
    "There are two attractors:  $A_1 = (-x_s, 0)$ and the symmetric $A_2 = (x_s, 0)$,  where $x_s$ is the minimum of the bistable potential $V(x)$. The 2-dimensional phase space (i.e. the plane)  is divided into 2 basins of attractions. . The transparent visualization is presented  on our website:\n",
    "\n",
    "http://visual.icse.us.edu.pl/wizualizacje/mechanika-teoretyczna/zobacz/BasenyPrzyciagania/"
   ]
  },
  {
   "cell_type": "code",
   "execution_count": null,
   "metadata": {},
   "outputs": [],
   "source": [
    "var('x,y')\n",
    "T1 = srange(0,30,0.01)\n",
    "so1=desolve_odeint(vector([y,2*x-1.2*x^3 -0.2*y]), [0,1], T1, [x,y])\n",
    "so2=desolve_odeint(vector([y,2*x-1.2*x^3 -0.2*y]), [0,2], T1, [x,y])\n",
    "so3=desolve_odeint(vector([y,2*x-1.2*x^3-0.2*y]), [0,3], T1, [x,y])\n",
    "so4=desolve_odeint(vector([y,2*x-1.2*x^3-0.2*y]), [0,4], T1, [x,y])\n",
    "p11=plot(0.3*x^4 - x^2, -2, 2,figsize=(6,3), )\n",
    "g11=list_plot(so1.tolist(), plotjoined=True,\\\n",
    "              figsize=(6,3),axes_labels=[r'$x$',r'$y$'])\n",
    "g11 +=list_plot(so2.tolist(), plotjoined=True,\\\n",
    "                figsize=(6,3),color=\"red\", axes_labels=[r'$x$',r'$y$'])\n",
    "g11 +=list_plot(so3.tolist(), plotjoined=True,\\\n",
    "                figsize=(6,3),color=\"green\", axes_labels=[r'$x$',r'$y$'])\n",
    "g11 +=list_plot(so4.tolist(), plotjoined=True,\\\n",
    "                figsize=(6,3),color=\"black\", axes_labels=[r'$x$',r'$y$'])\n",
    "table([[\"potencjał bistabilny\",\"oscylator nieliniowy tłumiony\"]])\n",
    "print(\" solutions tend to the point $(-x_s,0)$ or to the point  $(x_s,0)$ \")\n",
    "\n",
    "#g11.save('sage_chI024_02.pdf')\n",
    "#g11.save('sage_chI024_02.png')\n",
    "\n",
    "g11.show()\n",
    "p11.show()\n",
    "\n"
   ]
  },
  {
   "cell_type": "markdown",
   "metadata": {
    "lang": "en"
   },
   "source": [
    "\n",
    "There are two basins of attractions and corresponding two attractors. The  basins of attractions are more complicated: the plane is devided into two sets of initial conditions of the stripe  structure. \n",
    "\n",
    "\n",
    "\n",
    "### EXAMPLE 3: Limit cycle\n",
    "\n",
    "The attractor is a closed curve (circle, ellipse, any other closed curves). Below are two examples taken from biological models."
   ]
  },
  {
   "cell_type": "code",
   "execution_count": null,
   "metadata": {},
   "outputs": [],
   "source": [
    "var('x,y')\n",
    "T3 = srange(0,50,0.01)\n",
    "de1=y+x*(0.2-(x^2+y^2))\n",
    "de2=-x+y*(0.2-(x^2+y^2))\n",
    "s1=desolve_odeint(vector([de1, de2]), [0.5,0.5], T3, [x,y])\n",
    "s2=desolve_odeint(vector([de1, de2]), [0.01, 0.01], T3, [x,y])\n",
    "h1=list_plot(s1.tolist(),\\\n",
    "             plotjoined=True, figsize=(6,3),\\\n",
    "             color=\"red\",axes_labels=[r'$x$',r'$y$'])\n",
    "h2=list_plot(s2.tolist(), \\\n",
    "             plotjoined=True, \\\n",
    "             figsize=(6,3),axes_labels=[r'$x$',r'$y$'])\n",
    "show(h1+h2)\n",
    "\n",
    "\n",
    "(h1+h2).show()#save('sage_chI024_03.pdf')\n",
    "(h1+h2).show()#save('sage_chI024_03.png')"
   ]
  },
  {
   "cell_type": "code",
   "execution_count": null,
   "metadata": {},
   "outputs": [],
   "source": [
    "a, b, d = 1.3, 0.33, 0.1\n",
    "F(x,y)=x*(1-x) - a*x*y/(x+d)\n",
    "G(x,y)= b*y*(1-y/x)\n",
    "T = srange(0,80,0.01)\n",
    "sl1=desolve_odeint(vector([F,G]), [0.2,0.3], T, [x,y])\n",
    "sl2=desolve_odeint(vector([F,G]), [0.2,0.2], T, [x,y])\n",
    "j1=list_plot(sl1.tolist(), plotjoined=True, color=\"red\", figsize=(6, 3))\n",
    "j2=list_plot(sl2.tolist(), plotjoined=True,  figsize=(6, 3))\n",
    "show(j1+j2)\n",
    "\n",
    "(j1+j2).show()#save('sage_chI024_04.pdf')\n",
    "(j1+j2).show()#save('sage_chI024_04.png')"
   ]
  },
  {
   "cell_type": "code",
   "execution_count": null,
   "metadata": {},
   "outputs": [],
   "source": [
    "T = srange(0,200,0.01)\n",
    "sl1=desolve_odeint(vector([F,G]), [0.2,0.3], T, [x,y])\n",
    "sl2=desolve_odeint(vector([F,G]), [0.2,0.2], T, [x,y])\n",
    "j1=list_plot(sl1.tolist(), plotjoined=True, color=\"red\", figsize=(6, 3))\n",
    "j2=list_plot(sl2.tolist(), plotjoined=True,  figsize=(6, 3))\n",
    "show(j1+j2)\n",
    "\n",
    "\n",
    "(j1+j2).show()#save('sage_chI024_05.pdf')\n",
    "(j1+j2).show()#save('sage_chI024_05.png')"
   ]
  },
  {
   "cell_type": "markdown",
   "metadata": {
    "lang": "en"
   },
   "source": [
    "###  Lorenz attractor \n",
    "\n",
    "This is an example of the  strange attractor. The simplest definition is that it has a fractal structure. "
   ]
  },
  {
   "cell_type": "code",
   "execution_count": null,
   "metadata": {},
   "outputs": [],
   "source": [
    "reset()\n",
    "var('x y z')\n",
    "\n",
    "rho=28\n",
    "sigma=10\n",
    "beta=8/3\n",
    "\n",
    "F1 = sigma*(y-x)\n",
    "F2 = x*(rho-z) - y\n",
    "F3 = x*y - beta*z\n",
    "\n",
    "T = srange(0,100,0.01)\n",
    "atraktor_lorenza = desolve_odeint(vector([F1,F2,F3]), [0,0.5,1], T, [x,y,z])\n",
    "\n",
    "p2d = list_plot(zip(atraktor_lorenza[:,0],atraktor_lorenza[:,1]),\\\n",
    "                plotjoined=True, figsize=4, axes_labels=['x','y'])\n",
    "p3d = list_plot(atraktor_lorenza.tolist(),\\\n",
    "                plotjoined=True, viewer='tachyon', figsize=4)\n",
    "\n",
    "print \"2D rysunek atraktora Lorenza\"\n",
    "p2d.show()\n",
    "\n",
    "print \"3D rysunek atraktora Lorenza\"\n",
    "p3d.show()\n",
    "\n",
    "\n",
    "#p2d.save('sage_chI024_06.pdf')\n",
    "#p2d.save('sage_chI024_06.png')"
   ]
  },
  {
   "cell_type": "markdown",
   "metadata": {},
   "source": [
    "\\newpage"
   ]
  }
 ],
 "metadata": {
  "kernelspec": {
   "display_name": "SageMath 8.7",
   "language": "",
   "name": "sagemath"
  },
  "language": "python",
  "language_info": {
   "codemirror_mode": {
    "name": "ipython",
    "version": 2
   },
   "file_extension": ".py",
   "mimetype": "text/x-python",
   "name": "python",
   "nbconvert_exporter": "python",
   "pygments_lexer": "ipython2",
   "version": "2.7.15"
  },
  "nbTranslate": {
   "displayLangs": [
    "en",
    "pl"
   ],
   "hotkey": "alt-t",
   "langInMainMenu": true,
   "sourceLang": "pl",
   "targetLang": "en",
   "useGoogleTranslate": true
  },
  "toc": {
   "base_numbering": 1,
   "nav_menu": {},
   "number_sections": true,
   "sideBar": true,
   "skip_h1_title": false,
   "title_cell": "Table of Contents",
   "title_sidebar": "Contents",
   "toc_cell": false,
   "toc_position": {},
   "toc_section_display": true,
   "toc_window_display": false
  }
 },
 "nbformat": 4,
 "nbformat_minor": 2
}
