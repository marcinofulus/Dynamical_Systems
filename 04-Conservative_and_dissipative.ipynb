{
 "cells": [
  {
   "cell_type": "markdown",
   "metadata": {
    "lang": "en"
   },
   "source": [
    "# Conservative and dissipative systems\n",
    "\n",
    "In the theory of dynamical systems, two concepts play an important role: conservative  systems and dissipative  systems. Again, for clarity, consider the example of a 3-dimensional phase space system:\n",
    "\n",
    "$$\\dot x = F_1(x, y, z), \\quad x(0) = x_0 $$ \n",
    "\n",
    "$$\\dot y = F_2(x, y, z),  \\quad y(0) = y_0 $$ \n",
    "\n",
    "$$\\dot z = F_3(x, y, z),  \\quad z(0) = z_0 $$\n",
    "\n",
    "Let $D(0)$ is a set in the phase space of the system and let $V(0)$ be a volume of this set. It contains all possible initial conditions\n",
    "\n",
    "$$\\{x_0, y_0, z_0\\} \\in D(0)$$\n",
    "\n",
    "Under  evolution according to the above system of differential equations, every point $(x_0, y_0, z_0)$ in the phase space  from this set will evolve after $t$ to the point $(x(t),  y(t), z(t))$. The set of these points at the moment $t$ forms the set $D(t)$ of the volume  $V(t)$. The question is:\n",
    "\n",
    "$$ \\mbox{when } \\quad V(t) = V(0)$$\n",
    "\n",
    "In other words, when the dynamical  system preserves the phase-space volume. We will examine this problem. We will introduce new notation:\n",
    "\n",
    "$$x_t = x(t), \\quad \\quad y_t = y(t), \\quad \\quad z(t) = z_t$$\n",
    "\n",
    "The phase-space  volume of initial conditions at time $t=0$ is\n",
    "\n",
    "$$V(0) = \\int \\int \\int_{D(0)}  dx_0 dy_0 dz_0 $$\n",
    "\n",
    "The phase-space  volume at time $t$  is\n",
    "\n",
    "$$V(t) = \\int \\int \\int_{D(t)}  dx_t dy_t dz_t $$\n",
    "\n",
    "The evolution of the system is nothing but the change of variables $(x_0, y_0, z_0) \\to (x_t, y_t, z_t)$.   Let's make this change of variables in the second integral:\n",
    "\n",
    "\n",
    "$$M(t) = \\int \\int \\int_{D(t)}  dx_t dy_t dz_t   =  \\int \\int \\int_{D(0)}  \\frac{\\partial (x_t, y_t, z_t)}{\\partial (x_0, y_0, z_0)} \\; dx_0 dy_0 dz_0  = \\int \\int \\int_{D(0)}   J(t)  dx_0 dy_0 dz_0 \\quad \\quad \\quad (1) $$\n",
    "\n",
    "\n",
    "where $J$ is a Jacobian of the transformation $(x_t, y_t, z_t) \\to (x_0, y_0, z_0)$. If the phase volume does not change over time (it is a constant function), then its derivative\n",
    "\n",
    "$$\\frac{dM(t)}{dt} = \\int \\int \\int_{D(0)}  \\frac{ dJ(t)}{dt}  dx_0 dy_0 dz_0  \\quad \\quad \\quad (2) $$\n",
    "\n",
    "is zero. If\n",
    "\n",
    "$$ \\frac{ dJ(t)}{dt} = 0  \\quad \\quad \\quad \\mbox{then } \\quad \\quad \\quad \\frac{dM(t)}{dt} = 0 \\quad \\quad \\quad \\mbox{it means that  } \\quad \\quad \\quad M(t)=M(0) $$\n",
    "\n",
    "So we start calculations\n",
    "\n",
    "$$ \\frac{ dJ(t)}{dt} = \\frac{d}{dt} \\; \\frac{\\partial (x_t, y_t, z_t)}{\\partial (x_0, y_0, z_0)} = \\frac{d}{dt}  \\begin{bmatrix}\\frac{ \\partial x_t}{\\partial x_0}& \\frac{\\partial x_t}{\\partial y_0}&\\frac{ \\partial x_t}{\\partial z_0}\\\\ \\frac{ \\partial y_t}{\\partial x_0}&  \\frac{ \\partial y_t}{\\partial y_0} &\\frac{ \\partial y_t}{\\partial z_0} \\\\ \\frac{ \\partial z_t}{\\partial x_0}& \\frac{ \\partial z_t}{\\partial y_0}&\\frac{ \\partial z_t}{\\partial z_0} \\end{bmatrix}$$\n",
    "\n",
    "The above determinant should be calculated and remember that solutions of differential equations\n",
    "\n",
    "$$x_t = x_t(x_0, y_0, z_0), \\quad \\quad y_t = y_t(x_0, y_0, z_0), \\quad \\quad z_t = z_t(x_0, y_0, z_0) \\quad \\quad$$\n",
    "\n",
    "depend on the initial conditions $\\{x_0, y_0, z_0\\}$. After expanding the determinant, the following types of expressions appear\n",
    "\n",
    "\\begin{equation}\n",
    "\\label{eq:dxdt}\n",
    "\\frac{d}{dt}  \\frac{ \\partial x_t}{\\partial z_0} = \\frac{ \\partial }{\\partial z_0} \\frac{dx_t}{dt} = \\frac{ \\partial }{\\partial z_0} \\dot x_t = \\frac{ \\partial }{\\partial z_0} F_1(x_t, y_t, z_t) = \\frac{ \\partial F_1}{\\partial x_t}  \\frac{ \\partial x_t}{\\partial z_0} +  \\frac{ \\partial F_1}{\\partial y_t}  \\frac{ \\partial y_t}{\\partial z_0}  +\\frac{ \\partial F_1}{\\partial y_t}  \\frac{ \\partial y_t}{\\partial z_0}  \n",
    "\\end{equation}\n",
    "\n",
    "As you can see, in this simple case, we have to carry out cumbersome calculations. It is much better to use a symbolic calculations  using **SageMath**.\n",
    "\n",
    "To carry out the proof, it is best to circumvent the limitations of operations on expressions with derivatives in Sage. The determinant's derivative is automatically made, then the substitution is manually executed:\n",
    "\n",
    "$$ \\frac{ \\partial }{\\partial z_0} \\dot x_t = \\frac{ \\partial F_1}{\\partial x_t}  \\frac{ \\partial x_t}{\\partial z_0} +  \\frac{ \\partial F_1}{\\partial y_t}  \\frac{ \\partial y_t}{\\partial z_0}  +\\frac{ \\partial F_1}{\\partial y_t}  \\frac{ \\partial y_t}{\\partial z_0}  $$\n",
    "\n"
   ]
  },
  {
   "cell_type": "markdown",
   "metadata": {},
   "source": [
    " - first - let us define some helper variables"
   ]
  },
  {
   "cell_type": "code",
   "execution_count": null,
   "metadata": {},
   "outputs": [],
   "source": [
    "var('x y z t')\n",
    "xy_wsp = [('x','x'),('y','y')]+[('z','z')]\n",
    "N = len(xy_wsp)\n",
    "J  = matrix(SR,N)\n",
    "\n",
    "\n",
    "for i,(v,lv) in enumerate(xy_wsp):\n",
    "    for j,(u,lu) in enumerate(xy_wsp):\n",
    "        J[i,j] = var(\"d%sd%s\"%(v,u),latex_name=r'\\displaystyle\\frac{\\partial %s_t}{\\partial %s_0}'%(lv,lu))\n",
    "        var(\"dF%sd%s\"%(v,u),latex_name=r'\\displaystyle\\frac{\\partial F_%s}{\\partial %s_t}'%(lv,lu))\n",
    "\n",
    "to_fun = dict()\n",
    "for v in J.list():\n",
    "    vars()[str(v).capitalize()] = function(str(v).capitalize())(t)\n",
    "    var(\"%sd\"%str(v))\n",
    "    to_fun[v]=vars()[str(v).capitalize()]\n",
    "    to_fun[vars()[str(v)+\"d\"]]=vars()[str(v).capitalize()].diff()\n",
    "to_var = dict((v,k) for k,v in to_fun.items())\n",
    "\n",
    "to_rhs = dict()\n",
    "for i,(v,lv) in enumerate(xy_wsp):\n",
    "    for j,(u,lu) in enumerate(xy_wsp):      \n",
    "        to_rhs[vars()[\"d%sd%sd\"%(v,u)]] = sum([vars()[\"dF%sd%s\"%(v,w)]*vars()[\"d%sd%s\"%(w,u)] for w,wl in xy_wsp])"
   ]
  },
  {
   "cell_type": "markdown",
   "metadata": {},
   "source": [
    "The dictionary `to_rhs` implements in fact equation for $\\frac{d}{dt} \\frac{ \\partial x_t}{\\partial z_0}$ \\ref{eq:dxdt}:"
   ]
  },
  {
   "cell_type": "code",
   "execution_count": null,
   "metadata": {},
   "outputs": [],
   "source": [
    "to_rhs[dzdxd]"
   ]
  },
  {
   "cell_type": "markdown",
   "metadata": {},
   "source": [
    "Now we have Jacobian $J$, expressed in variables `dxdy`... etc.:"
   ]
  },
  {
   "cell_type": "code",
   "execution_count": null,
   "metadata": {},
   "outputs": [],
   "source": [
    "J"
   ]
  },
  {
   "cell_type": "markdown",
   "metadata": {},
   "source": [
    "All partial derivatives are independent variables, if we want to compute their time derivatives we need to use `to_fun` substitution dictionaty:"
   ]
  },
  {
   "cell_type": "code",
   "execution_count": null,
   "metadata": {},
   "outputs": [],
   "source": [
    "J.subs(to_fun)"
   ]
  },
  {
   "cell_type": "markdown",
   "metadata": {},
   "source": [
    "Hence, we can used above substitution, compute the time derivative and go back to independet varaibles in a following way:"
   ]
  },
  {
   "cell_type": "code",
   "execution_count": null,
   "metadata": {},
   "outputs": [],
   "source": [
    "print J.subs(to_fun).det().diff(t).subs(to_var)"
   ]
  },
  {
   "cell_type": "markdown",
   "metadata": {},
   "source": [
    "We use in this moment a substitution `to_rhs`, which make use of right hand sides of our ODE:"
   ]
  },
  {
   "cell_type": "code",
   "execution_count": null,
   "metadata": {},
   "outputs": [],
   "source": [
    "print J.subs(to_fun).det().diff(t).subs(to_var).subs(to_rhs)"
   ]
  },
  {
   "cell_type": "markdown",
   "metadata": {},
   "source": [
    "SageMath can simplify this formula, which needs to be divided be original Jacobian:"
   ]
  },
  {
   "cell_type": "code",
   "execution_count": null,
   "metadata": {},
   "outputs": [],
   "source": [
    "final = J.subs(to_fun).det().diff(t).subs(to_var).subs(to_rhs)/J.det()\n",
    "final.simplify_full()"
   ]
  },
  {
   "cell_type": "markdown",
   "metadata": {},
   "source": [
    "Finally, by algebraic manipulations  we obtained the relation \n",
    "\n",
    "$$\\frac{dJ(t)}{dt} = J(t) \\left[\\frac{\\partial F_1}{\\partial  x_t} + \\frac{\\partial  F_2}{\\partial  y_t} + \\frac{\\partial F_3}{\\partial z_t} \\right]  = J(t)\\; \\mbox{ div} \\vec F$$\n",
    "\n",
    "The expression in parentheses is called a divergence of the vector field $\\vec F =[F_1, F_2, F_3]$. We insert it to Eq.  $(2)$  with the result \n",
    "\n",
    "$$\\frac{dV(t)}{dt} = \\int \\int \\int_{D(0)}  \\frac{ dJ(t)}{dt}  dx_0 dy_0 dz_0   = \\int \\int \\int_{D(0)} J(t)\\; \\mbox{ div} \\vec F  dx_0 dy_0 dz_0  =  \\int \\int \\int_{D(t)} \\; \\mbox{ div} \\vec F  dx_t dy_t dz_t \\quad \\quad \\quad (3) $$\n",
    "\n",
    "where the operation of inverse transformation has been performed similar like in Eq.$(1)$. Note that when \n",
    "\n",
    "$$\\mbox{ div} \\vec F =0 $$ \n",
    "\n",
    "then \n",
    "\n",
    "$$\\frac{dV(t)}{dt} =0 \\quad \\quad \\mbox{and it means that } \\quad \\quad V(t) =const.  = V(0)$$\n",
    "\n",
    "\n",
    "This result can be generalized to an arbitrary number of differential equations:  \n",
    "\n",
    "$$\\frac{d\\vec x}{dt} = \\vec F (\\vec x), \\quad \\quad \\vec x = [x_1, x_2, x_3, ...., x_n], \\quad \\quad \\vec F = [F_1, F_2, F_3, ..., F_n]$$\n",
    "\n",
    "and we can formulate "
   ]
  },
  {
   "cell_type": "markdown",
   "metadata": {},
   "source": [
    "## THEOREM\n",
    "\n",
    "\n",
    "If the divergence of the vector field generated by the set of differential equation is zero, \n",
    "\n",
    "$$\\mbox{ div} \\vec F = \\sum_i \\frac{\\partial F_i}{\\partial x_i} = 0$$\n",
    "\n",
    "\n",
    "then the phase-space volume is preserved,  $V(t) = V(0)$. Such systems are called conservative. If the volume $V(t)$ decreases as a function of time then the system is called DISSIPATIVE:  \n",
    "\n",
    "$$\\frac{dV(t)}{dt} < 0$$\n",
    "\n",
    "\n",
    "If  \n",
    "\n",
    "$$\\mbox{ div} \\vec F = C_0 = const.  \\quad \\quad \\quad (4) $$\n",
    "\n",
    "then from Eq.  $(3)$  it follows that \n",
    "\n",
    "$$\\frac{dV(t)}{dt} = C_0 V(t)  \\quad \\quad \\quad (5) $$\n",
    "\n",
    "and then we can know if the system is dissipative or not.\n",
    "\n",
    "\n",
    " \n",
    "### Example 1: Damped harmonic oscillator \n",
    "\n",
    "\n",
    "$$\\dot x = y = F_1(x, y), \\quad \\quad x(0) = x_0$$ \n",
    "\n",
    "$$ \\dot y = -\\gamma y -\\omega^2 x = F_2(x, y), \\quad \\quad y(0) = y_0$$\n",
    "\n",
    "We can calculate the divergence: \n",
    "\n",
    "$$\\mbox{ div} \\vec F =  \\frac{\\partial F_1}{\\partial x} +  \\frac{\\partial F_2}{\\partial y} = -\\gamma $$\n",
    "\n",
    "\n",
    "Eq. (4)  takes the form \n",
    "\n",
    "$$\\frac{dV(t)}{dt} = -\\gamma  V(t),  \\quad \\quad \\quad \\mbox{ its solution is  } \\quad \\quad \\quad V(t) = V(0) e^{-\\gamma t}$$\n",
    "\n",
    "So, the volume $V(t)$ is a decreasing function of time and the system is dissipative.\n",
    "\n",
    " \n",
    "### Example 2: Lorenz system\n",
    "\n",
    "\n",
    "$$\\dot x = \\sigma (y-x) = F_1(x, y,  z), \\quad \\quad x(0) = x_0$$ \n",
    "\n",
    "$$ \\dot y = x(\\rho - z) -y = F_2(x, y,  z),  \\quad \\quad y(0) = y_0$$ \n",
    "\n",
    "$$ \\dot z = x y - \\beta z = F_3(x, y,  z), , \\quad \\quad z(0) = z_0$$\n",
    "\n",
    "All parameters of the model are positive: $\\sigma, \\rho, \\beta > 0$. \n",
    " \n",
    "Let us calculate the divergence of the vector field $\\vec F = [F_1, F_2, F_3]$: \n",
    "\n",
    "$$\\mbox{ div} \\vec F =  \\frac{\\partial F_1}{\\partial x} +  \\frac{\\partial F_2}{\\partial y}   +  \\frac{\\partial F_3}{\\partial z}  = -\\sigma -1 - \\beta < 0$$\n",
    "\n",
    "Again, as in the previous example the divergence is negative and in consequence the phase volume is a decreasing function of time. Hence, the system is dissipative."
   ]
  },
  {
   "cell_type": "markdown",
   "metadata": {},
   "source": [
    "\\newpage"
   ]
  }
 ],
 "metadata": {
  "kernelspec": {
   "display_name": "SageMath 8.7",
   "language": "",
   "name": "sagemath"
  },
  "language": "python",
  "language_info": {
   "codemirror_mode": {
    "name": "ipython",
    "version": 2
   },
   "file_extension": ".py",
   "mimetype": "text/x-python",
   "name": "python",
   "nbconvert_exporter": "python",
   "pygments_lexer": "ipython2",
   "version": "2.7.15"
  },
  "nbTranslate": {
   "displayLangs": [
    "en",
    "pl"
   ],
   "hotkey": "alt-t",
   "langInMainMenu": true,
   "sourceLang": "pl",
   "targetLang": "en",
   "useGoogleTranslate": true
  },
  "toc": {
   "base_numbering": 1,
   "nav_menu": {},
   "number_sections": true,
   "sideBar": true,
   "skip_h1_title": false,
   "title_cell": "Table of Contents",
   "title_sidebar": "Contents",
   "toc_cell": false,
   "toc_position": {},
   "toc_section_display": true,
   "toc_window_display": false
  }
 },
 "nbformat": 4,
 "nbformat_minor": 2
}
