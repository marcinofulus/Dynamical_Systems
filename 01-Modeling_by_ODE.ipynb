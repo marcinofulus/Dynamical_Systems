{
 "cells": [
  {
   "cell_type": "markdown",
   "metadata": {
    "lang": "en"
   },
   "source": [
    "# Deterministic Dynamics\n",
    "\n",
    "## Introduction: modeling of processes using differential equations\n",
    "\n",
    "One of the basic laws of physics is Newton's second law. It describes classic mechanical systems. These systems are the idealization of real systems occurring in the world around us. In the simplest version, Newton's dynamics principle for one particle moving only along one coordinate axis, e.g. along the OX axis, can be formulated as follows:\n",
    "\n",
    "\"Particle motion is determined by the forces that act on the particle.\"\n",
    "\n",
    "From a mathematical point of view,  motion of the particle is described by the Newton equation:\n",
    "\n",
    "$$m a = F$$\n",
    "\n",
    "There are three quantities in this equation:\n",
    "\n",
    " - $m$ is the mass of the particle\n",
    " - $a$ is particle acceleration\n",
    " - $F$ is the force acting on the particle.\n",
    "\n",
    "Since the motion occurs along the OX axis (so we assume for simplicity), the force $F$ works only in the OX direction and the acceleration $a$ is along the OX axis.\n",
    "We know from the course of physics that particle acceleration is a derivative (with respect to time) of the  particle velocity $v$. In turn, the particle velocity $v$ is a derivative of the particle position $x$: \n",
    "\n",
    "$$a= \\frac{d}{dt} v= \\frac{d}{dt} \\frac{d}{dt} x = \\frac{d^2x}{dt^2}$$\n",
    "\n",
    "In a general form, the force \n",
    "\n",
    "$$F = F(x, v, t) = F(x, dx/dt, t)$$\n",
    "\n",
    "may depend on the particle position $x$, its velocity $v=dx/dt$ and time $t$.\n",
    "\n",
    "Using the definition of  acceleration, the Newton  equation can be rewritten as follows:\n",
    "\n",
    "$$ m  \\frac{d^2x}{dt^2} = F\\left(x, \\frac{dx}{dt}, t\\right) \\quad \\quad \\quad (1) $$\n",
    "\n",
    "In this way we obtain a differential equation that describes  one-dimensional motion of the particle along the OX axis. What can we say about this equation:\n",
    "\n",
    " - This is a second order differential equation because a  second order derivative $d^2x/dt^2$ appears.\n",
    " - This is an ordinary differential equation, because there are no partial derivatives but only derivatives with respect to one variable - in this case, time derivatives $t$.\n",
    " - Newton's equation alone is not enough to describe the motion of a particle. We must set  initial conditions for this equation. Because this is a second-order differential equation, we must set two initial conditions: the initial coordinate  $x(t_0) = x_0$ and the initial velocity $v(t_0) = v_0$ of the particle. The initial conditions can be set at any time  $t_0$, but usually the initial  time is $t_0 = 0$.\n",
    "\n",
    "Equation (1) can be presented in an equivalent form:\n",
    "\n",
    "$$\\frac{dx}{dt} = v \\quad \\quad \\quad (2a) $$\n",
    "\n",
    "$$\\frac{dv}{dt} = \\frac{1}{m} F\\left(x, v, t\\right) \\quad \\quad \\quad (2b) $$\n",
    "\n",
    "where we introduced a new variable $v$ which is the particle velocity. In this way we obtain a set of 2 first order differential equations. As we will see later, such manipulation is useful when introducing the concept of phase space for differential equations. If the force $F$ does not explicitly depend on time, then the system of equations\n",
    "\n",
    "$$\\frac{dx}{dt} = v \\quad \\quad \\quad (3a) $$\n",
    "\n",
    "$$ m \\frac{dv}{dt} =  F(x, v) \\quad \\quad \\quad (3b) $$\n",
    "\n",
    "is called  autonomous. In other words, it is a set of 2 autonomous ordinary differential equations. We say then that its phase space is 2-dimensional.\n",
    "\n",
    "If the particle moves on the 2-dimensional $(X, Y)$ plane, then Newton's equations have  the form:\n",
    "\n",
    "$$ m  \\frac{d^2x}{dt^2} = F\\left(x, y, \\frac{dx}{dt}, \\frac{dy}{dt}, t\\right) \\quad \\quad \\quad (4a) $$\n",
    "\n",
    "$$ m  \\frac{d^2y}{dt^2} = G\\left(x, y, \\frac{dx}{dt}, \\frac{dy}{dt}, t\\right) \\quad \\quad \\quad (4b) $$\n",
    "\n",
    "where $F$ and $G$ are force components acting on the particle towards $x$ and $y$. In general, these forces depend on both components $(x, y)$ of the particle position, its  velocity components $(dx/dt, dy/dt)$  and time $t$.\n",
    "If the force components $F$ and $G$ do not depend explicitly on time, then proceeding as before we get the set:\n",
    "\n",
    "$$\\frac{dx}{dt} = v \\quad \\quad \\quad (5a) $$\n",
    "\n",
    "$$\\frac{dy}{dt} = u \\quad \\quad \\quad (5b) $$\n",
    "\n",
    "$$ m  \\frac{dv}{dt} = F(x, y, v, u) \\quad \\quad \\quad (5c) $$\n",
    "\n",
    "$$ m  \\frac{du}{dt} = G(x, y, v, u ) \\quad \\quad \\quad (5d) $$\n",
    "\n",
    "It is a set of 4 autonomous ordinary differential equations. We say then that its phase space is 4-dimensional."
   ]
  },
  {
   "cell_type": "markdown",
   "metadata": {
    "lang": "en"
   },
   "source": [
    "For a particle moving in space $(X, Y, Z)$, we have 3 second-order differential equations. If the three force components do not explicitly depend on time, then proceeding as before we get a system of 6 first-order differential equations and the phase space is 6-dimensional. In general, for $N$ particles moving in space, the phase space has the dimension $6N$. The analysis of such equations exceeds the capabilities of modern mathematics in the sense that we know little about the general properties of specific systems that we model. This means that we have to use numerical methods and the computer is an indispensable tool for analysis.\n",
    "Above we gave one example of modeling. It is based on Newton's formalism and Newton's equations of motion which can be used to describe the dynamics of classical particles. Sometimes it is convenient to use other formalism such as Lagrange's formalism or Hamilton's formalism. In many cases, all three formalisms are equivalent. For so-called systems with constraints, it is convenient to use Lagrange formalism or Hamilton's formalism.\n",
    "Defining the system of differential equations as autonomous, we assumed that force does not depend explicitly on time. This may seem like a restriction. This is not true. Non-autonomous systems can be reduced to autonomous systems by introducing an additional independent variable, an additional \"position\". We will show it on a simple example. Let's consider a particle moving along the X-axis. The particle is affected by a friction force proportional to  velocity of the particle, $F = -\\gamma v$, the potential force $F(x) = -V'(x)$ comes from the potential energy $V(x)$ (abbreviated as potential). This force is a negative potential gradient (i.e. derivative of $V'(x)$). In addition, $F(t)  = A \\cos(\\omega t)$ periodically acts on the particle. Newton's equation has the form\n",
    "\n",
    "$$m\\ddot x = -\\gamma \\dot x - V'(x) + A \\cos(\\omega t) \\quad \\quad \\quad (6) $$\n",
    "\n",
    "where dots denote derivatives with respect to  time and apostrophe denotes derivative with respect to the position  $x$: \n",
    "\n",
    "$$\\dot x = \\frac{dx}{dt}, \\quad \\quad \\quad \\ddot x = \\frac{d^2x}{dt^2}, \\quad \\quad \\quad V'(x) = \\frac{dV(x)}{dx} $$\n",
    "\n",
    "The equation (6) can be rewritten  in the form of a set of 3 autonomus differential equations:\n",
    "\n",
    "$$\\dot x = v \\quad \\quad \\quad (7a) $$\n",
    "\n",
    "$$m \\dot v = -\\gamma v -V'(x) + A \\cos (z)\\quad \\quad \\quad (7b) $$\n",
    "\n",
    "$$\\dot z = \\omega\\quad \\quad \\quad (7c) $$\n",
    "\n",
    "We show equivalence as follows:\n",
    "\n",
    " - in the equation $(7b)$, replace $v$ from the equation $(7a)$ by  $v=\\dot x$, remembering that $\\dot v = \\ddot x$\n",
    " - the equation $(7c)$ can be integrated and we get $z=\\omega t$; we insert this expression into the equation $(7b)$.\n",
    "\n",
    "In this way we obtain the equation $(6)$.  We see that the equation (6) is equivalent to a set of 3 first-order autonomous differential equations. Therefore the phase space corresponding to the system (6) is 3-dimensional. An important hint from this example is how to obtain an autonomous system of first-order differential equations. The number of these equations defines the phase space of the system. The dimension of this space is one of the most important characteristics. Please remember that!\n",
    "\n",
    "Physics also uses the partial differential equation apparatus: the  Schrodinger equation, the wave equation, the diffusion equation, Maxwell equations. Their analysis is much more difficult. There are special and specific mathematical methods to obtain information about the properties of systems described by such equations.\n",
    "The phenomenological modeling method is used in many fields of science (chemistry, biology, sociology, economic sciences). To illustrate how to use it we will give one more example."
   ]
  },
  {
   "cell_type": "markdown",
   "metadata": {
    "lang": "en"
   },
   "source": [
    "## Modeling of the growth process\n",
    "\n",
    "Growth processes occur in many areas of Nature. You don't have to be a keen observer to see what can grow around us. We are considering one of the possible classes of growth processes: change of  population of hares or bacteria, change of cash deposits in bank deposits, an increase in the concentration of substances in chemical reactions or an increase in the number of cancer cells. Often, growth processes are accompanied by processes of decline (disappearance, death, ...). Here, we neglect them. \n",
    "\n",
    "Let's consider a specific example: an increase in money of a bank deposit  after some period of time. Let's assume that at the moment $t$ we have in a bank $x(t)$ (e.g. dollars). We ask how much money will increase after some time $h$, or how much money will be at the time of $t+h$. We begin to model this process. Let's denote $x(t+h)$ a bank deposit at time $t+h$.  This amount consists of staring deposit $x(t)$ at the initial time $t$ and  $\\delta$  - interest increase, i.e., \n",
    "\n",
    "$$x(t+h)  =  x(t) + \\delta$$\n",
    "\n",
    "The growth of $\\delta$ is proportional to the initial amount of money  $x(t)$, the amount of interest $k$ and how long $(h)$ we keep money on deposit, i.e., \n",
    "\n",
    "$$ \\delta \\propto  x(t), \\quad \\quad \\quad \\delta \\propto  k, \\quad \\quad \\quad \\delta \\propto  h$$\n",
    "\n",
    "It means that in a simple modeling: \n",
    "$$\\delta = k  x(t)  h$$\n",
    "\n",
    "That's why\n",
    "\n",
    "$$x(t+h) = x(t) +  k  x(t)  h$$\n",
    "\n",
    "We can rewrite this relationship in the form\n",
    "\n",
    "$$\\frac{x(t+h) - x(t)}{h} = k  x(t)$$\n",
    "\n",
    "In the limit of small time increments $h \\to 0$, the left side is a derivative leading to the relation  \n",
    "\n",
    "$$\\frac{dx(t)}{dt} =  k x(t), \\quad \\quad x(0) = x_0$$\n",
    "\n",
    "where $x_0$ is the initial value of our deposit. In this way we derived an equation describing the dynamics of money growth of our bank deposit. This is an ordinary 1st order, autonomous differential equation. Its phase space is 1-dimensional.\n",
    "\n",
    "Below we show solutions to this equation for 3 different $k$ values."
   ]
  },
  {
   "cell_type": "code",
   "execution_count": null,
   "metadata": {},
   "outputs": [],
   "source": [
    "var('N1,N2,N3')\n",
    "T = srange(0,3,0.01)\n",
    "sol=desolve_odeint( vector([0, 0.1*N2,  0.2*N3]), [5,5,5],T,[N1,N2,N3])## rozwiązania dla różnych wartości k=0,0.1, 0.2\n",
    "\n",
    "line( zip ( T,sol[:,0]) ,figsize=(5, 3),legend_label=\"k=0\") +\\\n",
    " line( zip ( T,sol[:,1]) ,color='red',legend_label=\"k=0.1\")+\\\n",
    " line( zip ( T,sol[:,2]) ,color='green',legend_label=\"k=0.2\") ## pokazujemy rozwiązania dla różnych wartości k=-1, 0, 0.5"
   ]
  },
  {
   "cell_type": "markdown",
   "metadata": {
    "lang": "en"
   },
   "source": [
    "Other growth processes can also be modeled by this equation. It can be  the starting point for modifications, generalizations, extensions, etc. A simple extension consists in making the growth rate factor k dependent on additional factors. For example, for  modeling of the population growth of hares, we can assume that  the growth rate k depend on the number of hares in the population: a large amount of hares causes a large consumption of food, which in turn results in a decrease in the amount of food and difficulties in capture of  food. As a result, k's growth rate decreases. In other words, $k$ should be a  decreasing function of $x(t)$. There are infinitely many such functions. E.g\n",
    "\n",
    "$$k  \\to  k(x) = exp(-b x), \\quad \\quad b>0$$\n",
    "\n",
    "is the descending function of $x$. Now the differential equation has the form\n",
    "\n",
    "$$\\frac{dx}{dt} = x e^{-bx}, \\quad x = x(t), \\quad x(0) = x_0$$\n",
    "\n",
    "What are the effects of such a change? We show this in the figure below. We note that the population growth rate is decreasing compared to the previous case.\n",
    " The model can be extended to include death processes: those natural and those due to the existence of predators that eat individuals of the population. The simple prey-predator model is 2-dimensional: it describes changes in the prey population and changes in the predator population. It is an autonomous system of 2 ordinary differential equations."
   ]
  },
  {
   "cell_type": "code",
   "execution_count": null,
   "metadata": {},
   "outputs": [],
   "source": [
    "var('x,y,z')\n",
    "U = srange(0,300,0.01)\n",
    "sol=desolve_odeint( vector([x*exp(-0.1*x),  y*exp(-0.2*y),  z*exp(-0.3*z)]), [5,5,5],U,[x,y,z])## rozwiązania dla różnych wartości k=0,0.1, 0.2\n",
    "\n",
    "line( zip ( U,sol[:,0]) ,figsize=(5, 3),legend_label=\"k=0\") +\\\n",
    " line( zip ( U,sol[:,1]) ,color='red',legend_label=\"k=0.1\")+\\\n",
    " line( zip ( U,sol[:,2]) ,color='green',legend_label=\"k=0.2\") ## pokazujemy rozwiązania dla różnych wartości k=-1, 0, 0.5"
   ]
  },
  {
   "cell_type": "markdown",
   "metadata": {
    "lang": "en"
   },
   "source": [
    "## Discrete time modeling \n",
    "\n",
    "\n",
    "For the previous example we get the relation for the  increment of the bank deposit:\n",
    "\n",
    "$$x(t+h) = x(t) + k h x(t)$$\n",
    "\n",
    "If the changes occur not continuously but discreetly (e.g. every 1 day, every hour) then the time step $h$ is discrete. We denote \n",
    "\n",
    "$$x_n = x(t), \\quad \\quad x_{n+1} = x(t+h)$$\n",
    "\n",
    "and then the equation for increment has the form\n",
    "\n",
    "$$x_{n+1} = x_n + \\alpha x_n, \\quad \\quad \\alpha = k h$$\n",
    "\n",
    "In this way we obtain the equation with a discrete time. The general form of this type of equation is\n",
    "\n",
    "$$x_{n+1} = f(x_n) $$\n",
    "\n",
    "which tells us what the value in the next $n+1$ depends on the value in the previous step $n$. This equation is also called a recurrence  equation. Depending on the form of the $f(x)$ function, we get different models of system dynamics.\n",
    "\n",
    "The set of 2 equations with discrete time has the form\n",
    "\n",
    "$$x_{n+1} = f(x_n, y_n) $$\n",
    "\n",
    "$$y_{n+1} = g(x_n, y_n) $$\n",
    "\n",
    "Qualitative analysis of such a system is very difficult. \n"
   ]
  },
  {
   "cell_type": "markdown",
   "metadata": {},
   "source": [
    "\\newpage"
   ]
  }
 ],
 "metadata": {
  "kernelspec": {
   "display_name": "SageMath 8.7",
   "language": "",
   "name": "sagemath"
  },
  "language": "python",
  "language_info": {
   "codemirror_mode": {
    "name": "ipython",
    "version": 2
   },
   "file_extension": ".py",
   "mimetype": "text/x-python",
   "name": "python",
   "nbconvert_exporter": "python",
   "pygments_lexer": "ipython2",
   "version": "2.7.15"
  },
  "nbTranslate": {
   "displayLangs": [
    "en",
    "pl"
   ],
   "hotkey": "alt-t",
   "langInMainMenu": true,
   "sourceLang": "pl",
   "targetLang": "en",
   "useGoogleTranslate": true
  },
  "toc": {
   "base_numbering": 1,
   "nav_menu": {},
   "number_sections": true,
   "sideBar": true,
   "skip_h1_title": false,
   "title_cell": "Table of Contents",
   "title_sidebar": "Contents",
   "toc_cell": false,
   "toc_position": {},
   "toc_section_display": true,
   "toc_window_display": false
  }
 },
 "nbformat": 4,
 "nbformat_minor": 2
}
